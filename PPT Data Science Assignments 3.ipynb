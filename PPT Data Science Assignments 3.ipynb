{
 "cells": [
  {
   "cell_type": "markdown",
   "id": "bc1b0137",
   "metadata": {},
   "source": [
    "# Q 1: Scenario: A company wants to analyze the sales performance of its products in different regions. They have collected the following data:\n",
    "   Region A: [10, 15, 12, 8, 14]\n",
    "   \n",
    "   Region B: [18, 20, 16, 22, 25]\n",
    "   \n",
    "   Calculate the mean sales for each region.\n"
   ]
  },
  {
   "cell_type": "code",
   "execution_count": 1,
   "id": "9a88a541",
   "metadata": {},
   "outputs": [
    {
     "name": "stdout",
     "output_type": "stream",
     "text": [
      "Mean sales for Region A: 11.8\n",
      "Mean sales for Region B: 20.2\n"
     ]
    }
   ],
   "source": [
    "def calculate_mean_sales(region_data):\n",
    "    mean_sales = {}\n",
    "    for region, sales in region_data.items():\n",
    "        total_sales = sum(sales)\n",
    "        mean_sales[region] = total_sales / len(sales)\n",
    "    return mean_sales\n",
    "\n",
    "region_data = {\n",
    "    'Region A': [10, 15, 12, 8, 14],\n",
    "    'Region B': [18, 20, 16, 22, 25]\n",
    "}\n",
    "\n",
    "mean_sales = calculate_mean_sales(region_data)\n",
    "\n",
    "for region, mean in mean_sales.items():\n",
    "    print(f\"Mean sales for {region}: {mean}\")"
   ]
  },
  {
   "cell_type": "markdown",
   "id": "6bc4849d",
   "metadata": {},
   "source": [
    "# Q 2: Scenario: A survey is conducted to measure customer satisfaction on a scale of 1 to 5. The data collected is as follows:\n",
    " \n",
    " [4, 5, 2, 3, 5, 4, 3, 2, 4, 5]\n",
    "   \n",
    " Calculate the mode of the survey responses.\n"
   ]
  },
  {
   "cell_type": "code",
   "execution_count": 2,
   "id": "6ddd3bda",
   "metadata": {},
   "outputs": [
    {
     "name": "stdout",
     "output_type": "stream",
     "text": [
      "The mode of the survey responses is: 4\n"
     ]
    }
   ],
   "source": [
    "import statistics\n",
    "\n",
    "survey_responses = [4, 5, 2, 3, 5, 4, 3, 2, 4, 5]\n",
    "mode = statistics.mode(survey_responses)\n",
    "\n",
    "print(\"The mode of the survey responses is:\", mode)"
   ]
  },
  {
   "cell_type": "markdown",
   "id": "f576bc1c",
   "metadata": {},
   "source": [
    "# Q 3: Scenario: A company wants to compare the salaries of two departments. The salary data for Department A and Department B are as follows:\n",
    "Department A: [5000, 6000, 5500, 7000]\n",
    "\n",
    "Department B: [4500, 5500, 5800, 6000, 5200]\n",
    "\n",
    "Calculate the median salary for each department."
   ]
  },
  {
   "cell_type": "code",
   "execution_count": 4,
   "id": "d1e58b85",
   "metadata": {},
   "outputs": [
    {
     "name": "stdout",
     "output_type": "stream",
     "text": [
      "Median salary for Department A: 5750.0\n",
      "Median salary for Department B: 5500\n"
     ]
    }
   ],
   "source": [
    "# usind statistics library (import statistics).\n",
    "\n",
    "department_a = [5000, 6000, 5500, 7000]\n",
    "department_b = [4500, 5500, 5800, 6000, 5200]\n",
    "\n",
    "median_a = statistics.median(department_a)\n",
    "median_b = statistics.median(department_b)\n",
    "\n",
    "print(\"Median salary for Department A:\", median_a)\n",
    "print(\"Median salary for Department B:\", median_b)"
   ]
  },
  {
   "cell_type": "markdown",
   "id": "5e7c4548",
   "metadata": {},
   "source": [
    "# Q 4: Scenario: A data analyst wants to determine the variability in the daily stock prices of a company. The data collected is as follows:\n",
    "   [25.5, 24.8, 26.1, 25.3, 24.9]\n",
    "    \n",
    "   Calculate the range of the stock prices.\n"
   ]
  },
  {
   "cell_type": "code",
   "execution_count": 11,
   "id": "201eed4d",
   "metadata": {},
   "outputs": [
    {
     "name": "stdout",
     "output_type": "stream",
     "text": [
      "The range of the stock prices is: 1.3000000000000007\n"
     ]
    }
   ],
   "source": [
    "stock_prices = [25.5, 24.8, 26.1, 25.3, 24.9]\n",
    "price_range = max(stock_prices) - min(stock_prices)\n",
    "\n",
    "print(\"The range of the stock prices is:\", price_range)"
   ]
  },
  {
   "cell_type": "markdown",
   "id": "d639ed47",
   "metadata": {},
   "source": [
    "# Q 5: Scenario: A study is conducted to compare the performance of two different teaching methods. The test scores of the students in each group are as follows:\n",
    "   Group A: [85, 90, 92, 88, 91]\n",
    "        \n",
    "   Group B: [82, 88, 90, 86, 87]\n",
    "    \n",
    "   Perform a t-test to determine if there is a significant difference in the mean scores between the two groups.\n"
   ]
  },
  {
   "cell_type": "code",
   "execution_count": 10,
   "id": "65bfa64b",
   "metadata": {},
   "outputs": [
    {
     "name": "stdout",
     "output_type": "stream",
     "text": [
      "There is no significant difference in the mean scores between the two groups.\n"
     ]
    }
   ],
   "source": [
    "from scipy import stats\n",
    "\n",
    "group_a = [85, 90, 92, 88, 91]\n",
    "group_b = [82, 88, 90, 86, 87]\n",
    "\n",
    "t_statistic, p_value = stats.ttest_ind(group_a, group_b)\n",
    "\n",
    "alpha = 0.05  # significance level\n",
    "\n",
    "if p_value < alpha:\n",
    "    print(\"There is a significant difference in the mean scores between the two groups.\")\n",
    "else:\n",
    "    print(\"There is no significant difference in the mean scores between the two groups.\")"
   ]
  },
  {
   "cell_type": "markdown",
   "id": "61fe7974",
   "metadata": {},
   "source": [
    "# Q 6: Scenario: A company wants to analyze the relationship between advertising expenditure and sales. The data collected is as follows:\n",
    "\n",
    "   Advertising Expenditure (in thousands): [10, 15, 12, 8, 14]\n",
    "   \n",
    "   Sales (in thousands): [25, 30, 28, 20, 26]\n",
    "   \n",
    "   Calculate the correlation coefficient between advertising expenditure and sales.\n"
   ]
  },
  {
   "cell_type": "code",
   "execution_count": 14,
   "id": "15e33f8f",
   "metadata": {},
   "outputs": [
    {
     "name": "stdout",
     "output_type": "stream",
     "text": [
      "The correlation coefficient between advertising expenditure and sales is: 0.8757511375750132\n"
     ]
    }
   ],
   "source": [
    "import numpy as np\n",
    "\n",
    "advertising_expenditure = [10, 15, 12, 8, 14]\n",
    "sales = [25, 30, 28, 20, 26]\n",
    "\n",
    "correlation_coefficient = np.corrcoef(advertising_expenditure, sales)[0, 1]\n",
    "\n",
    "print(\"The correlation coefficient between advertising expenditure and sales is:\", correlation_coefficient)"
   ]
  },
  {
   "cell_type": "markdown",
   "id": "4327efb3",
   "metadata": {},
   "source": [
    "# Q 7: Scenario: A survey is conducted to measure the heights of a group of people. The data collected is as follows:\n",
    "   [160, 170, 165, 155, 175, 180, 170]\n",
    "    \n",
    "   Calculate the standard deviation of the heights."
   ]
  },
  {
   "cell_type": "code",
   "execution_count": 16,
   "id": "e2395ce8",
   "metadata": {},
   "outputs": [
    {
     "name": "stdout",
     "output_type": "stream",
     "text": [
      "The standard deviation of the heights is: 7.953949089757174\n"
     ]
    }
   ],
   "source": [
    "heights = [160, 170, 165, 155, 175, 180, 170]\n",
    "\n",
    "standard_deviation = np.std(heights)\n",
    "\n",
    "print(\"The standard deviation of the heights is:\", standard_deviation)"
   ]
  },
  {
   "cell_type": "markdown",
   "id": "d9fddd00",
   "metadata": {},
   "source": [
    "# Q 8: Scenario: A company wants to analyze the relationship between employee tenure and job satisfaction. The data collected is as follows:\n",
    "   Employee Tenure (in years): [2, 3, 5, 4, 6, 2, 4]\n",
    "   \n",
    "   Job Satisfaction (on a scale of 1 to 10): [7, 8, 6, 9, 5, 7, 6]\n",
    "   \n",
    "   Perform a linear regression analysis to predict job satisfaction based on employee tenure.\n"
   ]
  },
  {
   "cell_type": "code",
   "execution_count": 17,
   "id": "1ce60d26",
   "metadata": {},
   "outputs": [
    {
     "name": "stdout",
     "output_type": "stream",
     "text": [
      "Predicted job satisfaction for a tenure of 3.5 years: 6.957446808510637\n"
     ]
    }
   ],
   "source": [
    "from sklearn.linear_model import LinearRegression\n",
    "\n",
    "employee_tenure = np.array([2, 3, 5, 4, 6, 2, 4]).reshape(-1, 1)\n",
    "job_satisfaction = np.array([7, 8, 6, 9, 5, 7, 6])\n",
    "\n",
    "# Create and fit the linear regression model\n",
    "model = LinearRegression()\n",
    "model.fit(employee_tenure, job_satisfaction)\n",
    "\n",
    "# Predict job satisfaction for a new tenure value\n",
    "new_tenure = np.array([3.5]).reshape(-1, 1)\n",
    "predicted_satisfaction = model.predict(new_tenure)\n",
    "\n",
    "print(\"Predicted job satisfaction for a tenure of 3.5 years:\", predicted_satisfaction[0])"
   ]
  },
  {
   "cell_type": "markdown",
   "id": "865312d2",
   "metadata": {},
   "source": [
    "# Q 9: Scenario: A study is conducted to compare the effectiveness of two different medications. The recovery times of the patients in each group are as follows:\n",
    "   Medication A: [10, 12, 14, 11, 13]\n",
    "        \n",
    "   Medication B: [15, 17, 16, 14, 18]\n",
    "    \n",
    "   Perform an analysis of variance (ANOVA) to determine if there is a significant difference in the mean recovery times between the two medications."
   ]
  },
  {
   "cell_type": "code",
   "execution_count": 19,
   "id": "5222ec0a",
   "metadata": {},
   "outputs": [
    {
     "name": "stdout",
     "output_type": "stream",
     "text": [
      "There is a significant difference in the mean recovery times between the two medications.\n"
     ]
    }
   ],
   "source": [
    "\n",
    "medication_a = [10, 12, 14, 11, 13]\n",
    "medication_b = [15, 17, 16, 14, 18]\n",
    "\n",
    "f_statistic, p_value = stats.f_oneway(medication_a, medication_b)\n",
    "\n",
    "alpha = 0.05  # significance level\n",
    "\n",
    "if p_value < alpha:\n",
    "    print(\"There is a significant difference in the mean recovery times between the two medications.\")\n",
    "else:\n",
    "    print(\"There is no significant difference in the mean recovery times between the two medications.\")"
   ]
  },
  {
   "cell_type": "markdown",
   "id": "97e568ef",
   "metadata": {},
   "source": [
    "# Q 10: Scenario: A company wants to analyze customer feedback ratings on a scale of 1 to 10. The data collected is as follows:\n",
    "    \n",
    "    [8, 9, 7, 6, 8, 10, 9, 8, 7, 8]\n",
    "    \n",
    "    Calculate the 75th percentile of the feedback ratings.\n"
   ]
  },
  {
   "cell_type": "code",
   "execution_count": 21,
   "id": "15f2ef8b",
   "metadata": {},
   "outputs": [
    {
     "name": "stdout",
     "output_type": "stream",
     "text": [
      "The 75th percentile of the feedback ratings is: 8.75\n"
     ]
    }
   ],
   "source": [
    "\n",
    "feedback_ratings = [8, 9, 7, 6, 8, 10, 9, 8, 7, 8]\n",
    "\n",
    "percentile_75 = np.percentile(feedback_ratings, 75)\n",
    "\n",
    "print(\"The 75th percentile of the feedback ratings is:\", percentile_75)"
   ]
  },
  {
   "cell_type": "markdown",
   "id": "3c73f8dd",
   "metadata": {},
   "source": [
    "# Q 11:Scenario: A quality control department wants to test the weight consistency of a product. The weights of a sample of products are as follows:\n",
    "    \n",
    "    [10.2, 9.8, 10.0, 10.5, 10.3, 10.1]\n",
    "    \n",
    "    Perform a hypothesis test to determine if the mean weight differs significantly from 10 grams.\n"
   ]
  },
  {
   "cell_type": "code",
   "execution_count": 22,
   "id": "b22f46e3",
   "metadata": {},
   "outputs": [
    {
     "name": "stdout",
     "output_type": "stream",
     "text": [
      "The mean weight does not differ significantly from 10 grams.\n"
     ]
    }
   ],
   "source": [
    "\n",
    "weights = [10.2, 9.8, 10.0, 10.5, 10.3, 10.1]\n",
    "population_mean = 10.0\n",
    "\n",
    "t_statistic, p_value = stats.ttest_1samp(weights, population_mean)\n",
    "\n",
    "alpha = 0.05  # significance level\n",
    "\n",
    "if p_value < alpha:\n",
    "    print(\"The mean weight differs significantly from 10 grams.\")\n",
    "else:\n",
    "    print(\"The mean weight does not differ significantly from 10 grams.\")"
   ]
  },
  {
   "cell_type": "markdown",
   "id": "5dc51bc8",
   "metadata": {},
   "source": [
    "# Q 12: Scenario: A company wants to analyze the click-through rates of two different website designs. The number of clicks for each design is as follows:\n",
    "    \n",
    "    Design A: [100, 120, 110, 90, 95]\n",
    "        \n",
    "    Design B: [80, 85, 90, 95, 100]\n",
    "        \n",
    "    Perform a chi-square test to determine if there is a significant difference in the click-through rates between the two designs.\n"
   ]
  },
  {
   "cell_type": "code",
   "execution_count": 30,
   "id": "83f750fe",
   "metadata": {},
   "outputs": [
    {
     "name": "stdout",
     "output_type": "stream",
     "text": [
      "There is no significant difference in the click-through rates between the two designs.\n"
     ]
    }
   ],
   "source": [
    "\n",
    "design_a = [100, 120, 110, 90, 95]\n",
    "design_b = [80, 85, 90, 95, 100]\n",
    "\n",
    "# Compute the expected frequencies assuming equal proportions\n",
    "total_clicks = sum(design_a + design_b)\n",
    "expected_frequency = total_clicks / 2\n",
    "\n",
    "# Perform the chi-square test\n",
    "chi2_statistic, p_value = stats.chisquare([len(design_a), len(design_b)])\n",
    "\n",
    "alpha = 0.05  # significance level\n",
    "\n",
    "if p_value < alpha:\n",
    "    print(\"There is a significant difference in the click-through rates between the two designs.\")\n",
    "else:\n",
    "    print(\"There is no significant difference in the click-through rates between the two designs.\")"
   ]
  },
  {
   "cell_type": "markdown",
   "id": "e41f2a40",
   "metadata": {},
   "source": [
    "# Q 13: Scenario: A survey is conducted to measure customer satisfaction with a product on a scale of 1 to 10. The data collected is as follows:\n",
    "    \n",
    "    [7, 9, 6, 8, 10, 7, 8, 9, 7, 8]\n",
    "    \n",
    "    Calculate the 95% confidence interval for the population mean satisfaction score."
   ]
  },
  {
   "cell_type": "code",
   "execution_count": 32,
   "id": "e3639fba",
   "metadata": {},
   "outputs": [
    {
     "name": "stdout",
     "output_type": "stream",
     "text": [
      "The 95% confidence interval for the population mean satisfaction score is: (7.043561120599888, 8.756438879400113)\n"
     ]
    }
   ],
   "source": [
    "satisfaction_scores = [7, 9, 6, 8, 10, 7, 8, 9, 7, 8]\n",
    "\n",
    "confidence_level = 0.95  # 95% confidence level\n",
    "alpha = 1 - confidence_level\n",
    "\n",
    "sample_mean = np.mean(satisfaction_scores)\n",
    "sample_std = np.std(satisfaction_scores, ddof=1)  # ddof=1 for sample standard deviation\n",
    "sample_size = len(satisfaction_scores)\n",
    "\n",
    "t_critical = stats.t.ppf(1 - alpha / 2, df=sample_size - 1)\n",
    "margin_of_error = t_critical * sample_std / np.sqrt(sample_size)\n",
    "\n",
    "confidence_interval = (sample_mean - margin_of_error, sample_mean + margin_of_error)\n",
    "\n",
    "print(\"The 95% confidence interval for the population mean satisfaction score is:\", confidence_interval)\n"
   ]
  },
  {
   "cell_type": "markdown",
   "id": "efa9b230",
   "metadata": {},
   "source": [
    "# Q 14: Scenario: A company wants to analyze the effect of temperature on product performance. The data collected is as follows:\n",
    "    \n",
    "    Temperature (in degrees Celsius): [20, 22, 23, 19, 21]\n",
    "        \n",
    "    Performance (on a scale of 1 to 10): [8, 7, 9, 6, 8]\n",
    "        \n",
    "    Perform a simple linear regression to predict performance based on temperature."
   ]
  },
  {
   "cell_type": "code",
   "execution_count": 36,
   "id": "b84b02c0",
   "metadata": {},
   "outputs": [
    {
     "name": "stdout",
     "output_type": "stream",
     "text": [
      "Predicted performance for a temperature of 23 degrees Celsius: 8.6\n"
     ]
    }
   ],
   "source": [
    "\n",
    "temperature = np.array([20, 22, 23, 19, 21]).reshape(-1, 1)\n",
    "performance = np.array([8, 7, 9, 6, 8])\n",
    "\n",
    "# Create and fit the linear regression model\n",
    "model = LinearRegression()\n",
    "model.fit(temperature, performance)\n",
    "\n",
    "# Predict performance for a new temperature value\n",
    "new_temperature = np.array([23]).reshape(-1, 1)\n",
    "predicted_performance = model.predict(new_temperature)\n",
    "\n",
    "print(\"Predicted performance for a temperature of 23 degrees Celsius:\", predicted_performance[0])"
   ]
  },
  {
   "cell_type": "markdown",
   "id": "41dde984",
   "metadata": {},
   "source": [
    "# Q 15: Scenario: A study is conducted to compare the preferences of two groups of participants. The preferences are measured on a Likert scale from 1 to 5. The data collected is as follows:\n",
    "    \n",
    "    Group A: [4, 3, 5, 2, 4]\n",
    "    \n",
    "    Group B: [3, 2, 4, 3, 3]\n",
    "     \n",
    "    Perform a Mann-Whitney U test to determine if there is a significant difference in the median preferences between the two groups.\n"
   ]
  },
  {
   "cell_type": "code",
   "execution_count": 37,
   "id": "b390fceb",
   "metadata": {},
   "outputs": [
    {
     "name": "stdout",
     "output_type": "stream",
     "text": [
      "There is no significant difference in the median preferences between the two groups.\n"
     ]
    }
   ],
   "source": [
    "\n",
    "group_a = [4, 3, 5, 2, 4]\n",
    "group_b = [3, 2, 4, 3, 3]\n",
    "\n",
    "statistic, p_value = stats.mannwhitneyu(group_a, group_b, alternative='two-sided')\n",
    "\n",
    "alpha = 0.05  # significance level\n",
    "\n",
    "if p_value < alpha:\n",
    "    print(\"There is a significant difference in the median preferences between the two groups.\")\n",
    "else:\n",
    "    print(\"There is no significant difference in the median preferences between the two groups.\")"
   ]
  },
  {
   "cell_type": "markdown",
   "id": "3a7ec86d",
   "metadata": {},
   "source": [
    "# Q 16: Scenario: A company wants to analyze the distribution of customer ages. The data collected is as follows:\n",
    "    \n",
    "    [25, 30, 35, 40, 45, 50, 55, 60, 65, 70]\n",
    "    \n",
    "    Calculate the interquartile range (IQR) of the ages."
   ]
  },
  {
   "cell_type": "code",
   "execution_count": 52,
   "id": "3dbc20d7",
   "metadata": {},
   "outputs": [
    {
     "name": "stdout",
     "output_type": "stream",
     "text": [
      "The interquartile range (IQR) of the ages is: 20.25\n"
     ]
    }
   ],
   "source": [
    "\n",
    "ages = [25, 30, 35, 40, 45, 50, 55, 60, 65, 70]\n",
    "\n",
    "q1 = np.percentile(ages, 25)\n",
    "q3 = np.percentile(ages, 70)\n",
    "\n",
    "iqr = q3 - q1\n",
    "\n",
    "print(\"The interquartile range (IQR) of the ages is:\", iqr)"
   ]
  },
  {
   "cell_type": "markdown",
   "id": "e63786ae",
   "metadata": {},
   "source": [
    "# Q 17: Scenario: A study is conducted to compare the performance of three different machine learning algorithms. The accuracy scores for each algorithm are as follows:\n",
    "    \n",
    "    Algorithm A: [0.85, 0.80, 0.82, 0.87, 0.83]\n",
    "        \n",
    "    Algorithm B: [0.78, 0.82, 0.84, 0.80, 0.79]\n",
    "        \n",
    "    Algorithm C: [0.90, 0.88, 0.89, 0.86, 0.87]\n",
    "        \n",
    "    Perform a Kruskal-Wallis test to determine if there is a significant difference in the median accuracy scores between the algorithms."
   ]
  },
  {
   "cell_type": "code",
   "execution_count": 51,
   "id": "36ad1cca",
   "metadata": {},
   "outputs": [
    {
     "name": "stdout",
     "output_type": "stream",
     "text": [
      "There is a significant difference in the median accuracy scores between the algorithms.\n"
     ]
    }
   ],
   "source": [
    "\n",
    "algorithm_a = [0.85, 0.80, 0.82, 0.87, 0.83]\n",
    "algorithm_b = [0.78, 0.82, 0.84, 0.80, 0.79]\n",
    "algorithm_c = [0.90, 0.88, 0.89, 0.86, 0.87]\n",
    "\n",
    "statistic, p_value = stats.kruskal(algorithm_a, algorithm_b, algorithm_c)\n",
    "\n",
    "alpha = 0.05  # significance level\n",
    "\n",
    "if p_value < alpha:\n",
    "    print(\"There is a significant difference in the median accuracy scores between the algorithms.\")\n",
    "else:\n",
    "    print(\"There is no significant difference in the median accuracy scores between the algorithms.\")"
   ]
  },
  {
   "cell_type": "markdown",
   "id": "0b4c59c4",
   "metadata": {},
   "source": [
    "# Q 18: Scenario: A company wants to analyze the effect of price on sales. The data collected is as follows:\n",
    "    \n",
    "    Price (in dollars): [10, 15, 12, 8, 14]\n",
    "    \n",
    "    Sales: [100, 80, 90, 110, 95]\n",
    "    \n",
    "    Perform a simple linear regression to predict\n",
    "\n",
    " sales based on price."
   ]
  },
  {
   "cell_type": "code",
   "execution_count": 53,
   "id": "dcdd05ee",
   "metadata": {},
   "outputs": [
    {
     "name": "stdout",
     "output_type": "stream",
     "text": [
      "Predicted sales for a price of $17: 76.76829268292681\n"
     ]
    }
   ],
   "source": [
    "\n",
    "price = np.array([10, 15, 12, 8, 14]).reshape(-1, 1)\n",
    "sales = np.array([100, 80, 90, 110, 95])\n",
    "\n",
    "# Create and fit the linear regression model\n",
    "model = LinearRegression()\n",
    "model.fit(price, sales)\n",
    "\n",
    "# Predict sales for a new price value\n",
    "new_price = np.array([17]).reshape(-1, 1)\n",
    "predicted_sales = model.predict(new_price)\n",
    "\n",
    "print(\"Predicted sales for a price of $17:\", predicted_sales[0])"
   ]
  },
  {
   "cell_type": "markdown",
   "id": "bc00520a",
   "metadata": {},
   "source": [
    "# Q 19: Scenario: A survey is conducted to measure the satisfaction levels of customers with a new product. The data collected is as follows:\n",
    "    \n",
    "    [7, 8, 9, 6, 8, 7, 9, 7, 8, 7]\n",
    "    \n",
    "    Calculate the standard error of the mean satisfaction score.\n"
   ]
  },
  {
   "cell_type": "code",
   "execution_count": 49,
   "id": "85f10245",
   "metadata": {},
   "outputs": [
    {
     "name": "stdout",
     "output_type": "stream",
     "text": [
      "The standard error of the mean satisfaction score is: 0.30550504633038933\n"
     ]
    }
   ],
   "source": [
    "\n",
    "satisfaction_scores = [7, 8, 9, 6, 8, 7, 9, 7, 8, 7]\n",
    "\n",
    "sample_std = np.std(satisfaction_scores, ddof=1)  # ddof=1 for sample standard deviation\n",
    "sample_size = len(satisfaction_scores)\n",
    "\n",
    "standard_error = sample_std / np.sqrt(sample_size)\n",
    "\n",
    "print(\"The standard error of the mean satisfaction score is:\", standard_error)"
   ]
  },
  {
   "cell_type": "markdown",
   "id": "6cb8bcdb",
   "metadata": {},
   "source": [
    "# Q 20: Scenario: A company wants to analyze the relationship between advertising expenditure and sales. The data collected is as follows:\n",
    "    \n",
    "    Advertising Expenditure (in thousands): [10, 15, 12, 8, 14]\n",
    "    \n",
    "    Sales (in thousands): [25, 30, 28, 20, 26]\n",
    "    \n",
    "    Perform a multiple regression analysis to predict sales based on advertising expenditure."
   ]
  },
  {
   "cell_type": "code",
   "execution_count": 54,
   "id": "221612b8",
   "metadata": {},
   "outputs": [
    {
     "name": "stdout",
     "output_type": "stream",
     "text": [
      "                            OLS Regression Results                            \n",
      "==============================================================================\n",
      "Dep. Variable:                      y   R-squared:                       0.767\n",
      "Model:                            OLS   Adj. R-squared:                  0.689\n",
      "Method:                 Least Squares   F-statistic:                     9.872\n",
      "Date:                Sun, 09 Jul 2023   Prob (F-statistic):             0.0516\n",
      "Time:                        15:01:36   Log-Likelihood:                -9.5288\n",
      "No. Observations:                   5   AIC:                             23.06\n",
      "Df Residuals:                       3   BIC:                             22.28\n",
      "Df Model:                           1                                         \n",
      "Covariance Type:            nonrobust                                         \n",
      "==============================================================================\n",
      "                 coef    std err          t      P>|t|      [0.025      0.975]\n",
      "------------------------------------------------------------------------------\n",
      "const         12.2012      4.429      2.755      0.070      -1.893      26.296\n",
      "x1             1.1524      0.367      3.142      0.052      -0.015       2.320\n",
      "==============================================================================\n",
      "Omnibus:                          nan   Durbin-Watson:                   1.136\n",
      "Prob(Omnibus):                    nan   Jarque-Bera (JB):                0.546\n",
      "Skew:                          -0.267   Prob(JB):                        0.761\n",
      "Kurtosis:                       1.471   Cond. No.                         57.3\n",
      "==============================================================================\n",
      "\n",
      "Notes:\n",
      "[1] Standard Errors assume that the covariance matrix of the errors is correctly specified.\n"
     ]
    },
    {
     "name": "stderr",
     "output_type": "stream",
     "text": [
      "C:\\Users\\karan\\anaconda3\\lib\\site-packages\\statsmodels\\stats\\stattools.py:74: ValueWarning: omni_normtest is not valid with less than 8 observations; 5 samples were given.\n",
      "  warn(\"omni_normtest is not valid with less than 8 observations; %i \"\n"
     ]
    }
   ],
   "source": [
    "import statsmodels.api as sm\n",
    "\n",
    "advertising_expenditure = np.array([10, 15, 12, 8, 14])\n",
    "sales = np.array([25, 30, 28, 20, 26])\n",
    "\n",
    "# Add a constant column to the advertising expenditure as the intercept term\n",
    "expenditure_with_intercept = sm.add_constant(advertising_expenditure)\n",
    "\n",
    "# Create and fit the multiple regression model\n",
    "model = sm.OLS(sales, expenditure_with_intercept)\n",
    "results = model.fit()\n",
    "\n",
    "# Print the model summary\n",
    "print(results.summary())"
   ]
  },
  {
   "cell_type": "code",
   "execution_count": null,
   "id": "0c74ade4",
   "metadata": {},
   "outputs": [],
   "source": []
  }
 ],
 "metadata": {
  "kernelspec": {
   "display_name": "Python 3 (ipykernel)",
   "language": "python",
   "name": "python3"
  },
  "language_info": {
   "codemirror_mode": {
    "name": "ipython",
    "version": 3
   },
   "file_extension": ".py",
   "mimetype": "text/x-python",
   "name": "python",
   "nbconvert_exporter": "python",
   "pygments_lexer": "ipython3",
   "version": "3.9.13"
  }
 },
 "nbformat": 4,
 "nbformat_minor": 5
}
